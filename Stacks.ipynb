{
 "cells": [
  {
   "cell_type": "code",
   "execution_count": 16,
   "metadata": {
    "collapsed": true
   },
   "outputs": [],
   "source": [
    "#Import libraries here\n",
    "import pprint\n",
    "import copy\n"
   ]
  },
  {
   "cell_type": "code",
   "execution_count": 4,
   "metadata": {
    "collapsed": false
   },
   "outputs": [
    {
     "name": "stdout",
     "output_type": "stream",
     "text": [
      "['spam', 'eggs', 'lumberjack', 'knights', 'ni']\n"
     ]
    }
   ],
   "source": [
    "pp = pprint.PrettyPrinter(indent=4)\n",
    "stuff = ['spam', 'eggs', 'lumberjack', 'knights', 'ni']\n",
    "pp.pprint(stuff)"
   ]
  },
  {
   "cell_type": "code",
   "execution_count": 3,
   "metadata": {
    "collapsed": false
   },
   "outputs": [
    {
     "ename": "NameError",
     "evalue": "name 'pp' is not defined",
     "output_type": "error",
     "traceback": [
      "\u001b[0;31m---------------------------------------------------------------------------\u001b[0m",
      "\u001b[0;31mNameError\u001b[0m                                 Traceback (most recent call last)",
      "\u001b[0;32m<ipython-input-3-39990d732f14>\u001b[0m in \u001b[0;36m<module>\u001b[0;34m()\u001b[0m\n\u001b[1;32m      1\u001b[0m \u001b[0mmylist\u001b[0m \u001b[1;33m=\u001b[0m \u001b[1;33m[\u001b[0m\u001b[1;33m]\u001b[0m\u001b[1;33m\u001b[0m\u001b[0m\n\u001b[1;32m      2\u001b[0m \u001b[0mmylist\u001b[0m\u001b[1;33m.\u001b[0m\u001b[0mappend\u001b[0m\u001b[1;33m(\u001b[0m\u001b[1;36m1\u001b[0m\u001b[1;33m)\u001b[0m\u001b[1;33m\u001b[0m\u001b[0m\n\u001b[0;32m----> 3\u001b[0;31m \u001b[0mpp\u001b[0m\u001b[1;33m.\u001b[0m\u001b[0mpprint\u001b[0m\u001b[1;33m(\u001b[0m\u001b[0mmylist\u001b[0m\u001b[1;33m)\u001b[0m\u001b[1;33m\u001b[0m\u001b[0m\n\u001b[0m\u001b[1;32m      4\u001b[0m \u001b[0mprint\u001b[0m\u001b[1;33m(\u001b[0m\u001b[0mlen\u001b[0m\u001b[1;33m(\u001b[0m\u001b[0mmylist\u001b[0m\u001b[1;33m)\u001b[0m\u001b[1;33m)\u001b[0m\u001b[1;33m\u001b[0m\u001b[0m\n\u001b[1;32m      5\u001b[0m \u001b[0mmylist\u001b[0m\u001b[1;33m[\u001b[0m\u001b[1;36m0\u001b[0m\u001b[1;33m:\u001b[0m\u001b[1;36m1\u001b[0m\u001b[1;33m]\u001b[0m\u001b[1;33m.\u001b[0m\u001b[0mappend\u001b[0m\u001b[1;33m(\u001b[0m\u001b[1;36m2\u001b[0m\u001b[1;33m)\u001b[0m\u001b[1;33m\u001b[0m\u001b[0m\n",
      "\u001b[0;31mNameError\u001b[0m: name 'pp' is not defined"
     ]
    }
   ],
   "source": [
    "mylist = []\n",
    "mylist.append(1)\n",
    "pp.pprint(mylist)\n",
    "print(len(mylist))\n",
    "mylist[0:1].append(2)\n",
    "pp.pprint(mylist)\n",
    "mylist[len(mylist):] = [2]\n",
    "pp.pprint(mylist)"
   ]
  },
  {
   "cell_type": "code",
   "execution_count": null,
   "metadata": {
    "collapsed": true
   },
   "outputs": [],
   "source": [
    "def test_three_stack(stack, operation, input):\n",
    "    offsetDict = {1:0, 2:1, 3:2}\n",
    "    lengthDict = {1:1, 2:1, 3:1}\n",
    "    print(\"Stack is \", stack)\n",
    "    threeStack = [None] * 3\n",
    "    if operation == 'pop':\n",
    "        offset = offsetDict[stack]\n",
    "        length = lengthDict[stack]\n",
    "        result = threeStack[offset,offset+length].pop\n",
    "        print(result)\n",
    "        lengthDict[stack] = lengthDict[stack]-1\n",
    "    if operation == 'push':\n",
    "        offset = offsetDict[stack]\n",
    "        length = lengthDict[stack]\n",
    "        threeStack.insert(offset+length, input)\n",
    "        #threeStack[offset:offset+length].append(input)\n",
    "        lengthDict[stack] = lengthDict[stack]-1        \n",
    "    if operation == 'peek':\n",
    "        offset = offsetDict[stack]\n",
    "        length = lengthDict[stack]\n",
    "        print(threeStack[offset,offset+length][-1])     \n",
    "    if operation == 'isEmpty':\n",
    "        offset = offsetDict[stack]\n",
    "        length = lengthDict[stack]\n",
    "        if(len(threeStack[offset,offset+length]) == 0):\n",
    "            print(\"Stack is Empty\")\n",
    "        else:\n",
    "            print(\"Stack is not Empty\")\n",
    "    pp.pprint(threeStack)"
   ]
  },
  {
   "cell_type": "code",
   "execution_count": null,
   "metadata": {
    "collapsed": false
   },
   "outputs": [],
   "source": [
    "#push values onto stack 1\n",
    "test_three_stack(1, 'push', 9)\n",
    "test_three_stack(2, 'push', 9)"
   ]
  },
  {
   "cell_type": "code",
   "execution_count": 15,
   "metadata": {
    "collapsed": false
   },
   "outputs": [
    {
     "name": "stdout",
     "output_type": "stream",
     "text": [
      "[]\n",
      "[1]\n",
      "[1, 2]\n",
      "[1, 2, 3]\n",
      "[1, 1, 2, 3]\n",
      "[1, 1, 2, 2, 3]\n",
      "[1, 1, 2, 2, 3, 3]\n",
      "[1, 1, 2, 2, 3]\n",
      "[1, 1, 2, 3]\n",
      "[1, 2, 3]\n"
     ]
    }
   ],
   "source": [
    "def three_stack_insert(stack, insert):\n",
    "    threeStack.insert(offsetDict[stack]+lengthDict[stack], insert)\n",
    "    lengthDict[stack] = lengthDict[stack]+1\n",
    "    for s in range(stack,3):\n",
    "        offsetDict[s+1]=offsetDict[s]+lengthDict[s]\n",
    "    pp.pprint(threeStack)\n",
    "    \n",
    "def three_stack_pop(stack):\n",
    "    threeStack.pop(offsetDict[stack])\n",
    "    lengthDict[stack] = lengthDict[stack]-1\n",
    "    for s in range(stack,3):\n",
    "        offsetDict[s+1]=offsetDict[s]+lengthDict[s]\n",
    "    pp.pprint(threeStack)\n",
    "    \n",
    "threeStack = []\n",
    "offsetDict = {1:0, 2:1, 3:2}\n",
    "lengthDict = {1:0, 2:0, 3:0}\n",
    "pp.pprint(threeStack)\n",
    "\n",
    "#Add to Stack\n",
    "three_stack_insert(1, 1)\n",
    "three_stack_insert(2, 2)\n",
    "three_stack_insert(3, 3)\n",
    "\n",
    "three_stack_insert(1, 1)\n",
    "three_stack_insert(2, 2)\n",
    "three_stack_insert(3, 3)\n",
    "\n",
    "three_stack_pop(3)\n",
    "three_stack_pop(2)\n",
    "three_stack_pop(1)"
   ]
  },
  {
   "cell_type": "code",
   "execution_count": 86,
   "metadata": {
    "collapsed": false
   },
   "outputs": [],
   "source": [
    "current_min = None\n",
    "stList = []\n",
    "\n",
    "def stack_insert(value):\n",
    "    global current_min\n",
    "    global stList\n",
    "    stList.append(value)\n",
    "    if (current_min == None) or (value < stList[current_min]):\n",
    "        current_min = len(stList)-1\n",
    "    print(\"Current Min is \",stList[current_min])\n",
    "\n",
    "\n",
    "def stack_remove():\n",
    "    global current_min\n",
    "    global stList\n",
    "    if len(stList)>0:\n",
    "        if (current_min == len(stList)-1):\n",
    "            list_copy = copy.copy(stList)\n",
    "            list_copy.sort()\n",
    "            min_value = list_copy[0]\n",
    "            current_min = list_copy.index(min_value)\n",
    "        stList.pop()\n",
    "    else:\n",
    "        print(\"No items to remove\")\n",
    "    \n",
    "def stack_min():\n",
    "    global stList\n",
    "    global current_min\n",
    "    return stList(current_min)\n",
    "          "
   ]
  },
  {
   "cell_type": "code",
   "execution_count": 88,
   "metadata": {
    "collapsed": false
   },
   "outputs": [
    {
     "name": "stdout",
     "output_type": "stream",
     "text": [
      "[]\n",
      "Current Min is  2\n",
      "[2]\n",
      "Current Min is  2\n",
      "[2, 3]\n",
      "Current Min is  2\n",
      "[2, 3, 4]\n",
      "Current Min is  1\n",
      "[2, 3, 4, 1]\n",
      "[2, 3, 4]\n",
      "[2, 3]\n",
      "[2]\n",
      "[]\n",
      "No items to remove\n"
     ]
    }
   ],
   "source": [
    "pp.pprint(stList)\n",
    "stack_insert(2)\n",
    "pp.pprint(stList)\n",
    "stack_insert(3)\n",
    "pp.pprint(stList)\n",
    "stack_insert(4)\n",
    "pp.pprint(stList)\n",
    "stack_insert(1)\n",
    "pp.pprint(stList)\n",
    "\n",
    "stack_remove()\n",
    "pp.pprint(stList)\n",
    "stack_remove()\n",
    "pp.pprint(stList)\n",
    "stack_remove()\n",
    "pp.pprint(stList)\n",
    "stack_remove()\n",
    "pp.pprint(stList)\n",
    "stack_remove()"
   ]
  },
  {
   "cell_type": "code",
   "execution_count": 57,
   "metadata": {
    "collapsed": false
   },
   "outputs": [
    {
     "name": "stdout",
     "output_type": "stream",
     "text": [
      "[2, 3, 4, 1]\n"
     ]
    }
   ],
   "source": [
    "pp.pprint(stList)"
   ]
  },
  {
   "cell_type": "code",
   "execution_count": null,
   "metadata": {
    "collapsed": true
   },
   "outputs": [],
   "source": []
  }
 ],
 "metadata": {
  "anaconda-cloud": {},
  "kernelspec": {
   "display_name": "Python [Root]",
   "language": "python",
   "name": "Python [Root]"
  },
  "language_info": {
   "codemirror_mode": {
    "name": "ipython",
    "version": 3
   },
   "file_extension": ".py",
   "mimetype": "text/x-python",
   "name": "python",
   "nbconvert_exporter": "python",
   "pygments_lexer": "ipython3",
   "version": "3.5.2"
  }
 },
 "nbformat": 4,
 "nbformat_minor": 0
}
