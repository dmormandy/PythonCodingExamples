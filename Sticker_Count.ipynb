{
 "cells": [
  {
   "cell_type": "code",
   "execution_count": 3,
   "metadata": {
    "collapsed": true
   },
   "outputs": [],
   "source": [
    "from pprint import pprint"
   ]
  },
  {
   "cell_type": "code",
   "execution_count": 8,
   "metadata": {
    "collapsed": false
   },
   "outputs": [
    {
     "name": "stdout",
     "output_type": "stream",
     "text": [
      "{'F': 1, 'a': 1, 'b': 1, 'c': 1, 'e': 1, 'k': 1, 'o': 2}\n"
     ]
    }
   ],
   "source": [
    "# Library of Counts of Letters in the word 'Facebook'\n",
    "fbCount = {}\n",
    "initWord = 'Facebook'\n",
    "for l in initWord:\n",
    "    if not l in lettercount:\n",
    "        fbCount[l] = 1\n",
    "    else:\n",
    "        fbCount[l] += 1\n",
    "        \n",
    "pprint(lettercount)"
   ]
  },
  {
   "cell_type": "code",
   "execution_count": 45,
   "metadata": {
    "collapsed": false
   },
   "outputs": [],
   "source": [
    "# Function to determine the maximum multiple of letters in the Input word compared with the count in the dictionary\n",
    "# ie Max(inputWordLetterCount/FacebookLetterCount)\n",
    "def StickerCount(inputWord):\n",
    "    count_dict = {}\n",
    "    # Determine count for each letter in the Input word\n",
    "    for l in inputWord:\n",
    "        if not l == \" \":\n",
    "            if not l in count_dict:\n",
    "                count_dict[l] = 1\n",
    "            else:\n",
    "                count_dict[l] += 1\n",
    "    \n",
    "    pprint(count_dict)\n",
    "    fbCount = {}\n",
    "    # Determine count for each letter in the Input word    \n",
    "    initWord = 'facebook'\n",
    "    for l in initWord:\n",
    "        if not l in fbCount:\n",
    "            fbCount[l] = 1\n",
    "        else:\n",
    "            fbCount[l] += 1\n",
    "    \n",
    "    maxsticker = 0\n",
    "    for key in count_dict:\n",
    "        #print(key)\n",
    "        numsticker = count_dict[key]/fbCount[key]\n",
    "        #print(numsticker)\n",
    "        if numsticker > maxsticker:\n",
    "            maxsticker = numsticker\n",
    "        #print(maxsticker)\n",
    "            \n",
    "    return maxsticker"
   ]
  },
  {
   "cell_type": "code",
   "execution_count": 46,
   "metadata": {
    "collapsed": false
   },
   "outputs": [
    {
     "name": "stdout",
     "output_type": "stream",
     "text": [
      "{'b': 1, 'k': 1, 'o': 2}\n",
      "1.0\n"
     ]
    }
   ],
   "source": [
    "print(StickerCount('book'))"
   ]
  },
  {
   "cell_type": "code",
   "execution_count": 47,
   "metadata": {
    "collapsed": false
   },
   "outputs": [
    {
     "name": "stdout",
     "output_type": "stream",
     "text": [
      "{'a': 1, 'b': 1, 'c': 1, 'e': 1, 'f': 2, 'k': 1, 'o': 2}\n",
      "2.0\n"
     ]
    }
   ],
   "source": [
    "print(StickerCount('ffacebook'))"
   ]
  },
  {
   "cell_type": "code",
   "execution_count": 48,
   "metadata": {
    "collapsed": false
   },
   "outputs": [
    {
     "name": "stdout",
     "output_type": "stream",
     "text": [
      "{'a': 1, 'b': 2, 'c': 1, 'e': 3, 'f': 2, 'k': 1, 'o': 1}\n",
      "3.0\n"
     ]
    }
   ],
   "source": [
    "print(StickerCount('coffee kebab'))"
   ]
  },
  {
   "cell_type": "code",
   "execution_count": null,
   "metadata": {
    "collapsed": true
   },
   "outputs": [],
   "source": []
  }
 ],
 "metadata": {
  "kernelspec": {
   "display_name": "Python [Root]",
   "language": "python",
   "name": "Python [Root]"
  },
  "language_info": {
   "codemirror_mode": {
    "name": "ipython",
    "version": 3
   },
   "file_extension": ".py",
   "mimetype": "text/x-python",
   "name": "python",
   "nbconvert_exporter": "python",
   "pygments_lexer": "ipython3",
   "version": "3.5.2"
  }
 },
 "nbformat": 4,
 "nbformat_minor": 0
}
