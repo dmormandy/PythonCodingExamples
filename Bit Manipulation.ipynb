{
 "cells": [
  {
   "cell_type": "code",
   "execution_count": 1,
   "metadata": {
    "collapsed": true
   },
   "outputs": [],
   "source": [
    "#Import Libraries here"
   ]
  },
  {
   "cell_type": "code",
   "execution_count": 13,
   "metadata": {
    "collapsed": true
   },
   "outputs": [],
   "source": [
    "def parity(x):\n",
    "    result=0\n",
    "    while x:\n",
    "        print(bin(x))\n",
    "        result ^= x & 1\n",
    "        print(\"Result is :\",result)\n",
    "        x >>= 1\n",
    "    return result"
   ]
  },
  {
   "cell_type": "code",
   "execution_count": 14,
   "metadata": {
    "collapsed": false
   },
   "outputs": [
    {
     "name": "stdout",
     "output_type": "stream",
     "text": [
      "0b1010\n",
      "Demi-result is:  0\n",
      "Result is : 0\n",
      "0b101\n",
      "Demi-result is:  1\n",
      "Result is : 1\n",
      "0b10\n",
      "Demi-result is:  0\n",
      "Result is : 1\n",
      "0b1\n",
      "Demi-result is:  1\n",
      "Result is : 0\n",
      "0\n"
     ]
    }
   ],
   "source": [
    "print(parity(10))"
   ]
  },
  {
   "cell_type": "code",
   "execution_count": 33,
   "metadata": {
    "collapsed": false
   },
   "outputs": [],
   "source": [
    "def getBit(num, i):\n",
    "    resultBoolean = (num & (1<<i)) != 0\n",
    "    if resultBoolean is False:\n",
    "        result = 0\n",
    "    else:\n",
    "        result = 1\n",
    "    return result"
   ]
  },
  {
   "cell_type": "code",
   "execution_count": 34,
   "metadata": {
    "collapsed": false
   },
   "outputs": [
    {
     "name": "stdout",
     "output_type": "stream",
     "text": [
      "0\n",
      "1\n",
      "0\n",
      "1\n"
     ]
    }
   ],
   "source": [
    "print(getBit(10,0))\n",
    "print(getBit(10,1))\n",
    "print(getBit(10,2))\n",
    "print(getBit(10,3))"
   ]
  },
  {
   "cell_type": "code",
   "execution_count": 37,
   "metadata": {
    "collapsed": true
   },
   "outputs": [],
   "source": [
    "def setBit(num, i):\n",
    "    return num | (1 << i)"
   ]
  },
  {
   "cell_type": "code",
   "execution_count": 38,
   "metadata": {
    "collapsed": false
   },
   "outputs": [
    {
     "name": "stdout",
     "output_type": "stream",
     "text": [
      "11\n",
      "10\n",
      "14\n",
      "10\n"
     ]
    }
   ],
   "source": [
    "print(setBit(10,0))\n",
    "print(setBit(10,1))\n",
    "print(setBit(10,2))\n",
    "print(setBit(10,3))"
   ]
  },
  {
   "cell_type": "code",
   "execution_count": null,
   "metadata": {
    "collapsed": true
   },
   "outputs": [],
   "source": []
  }
 ],
 "metadata": {
  "kernelspec": {
   "display_name": "Python [Root]",
   "language": "python",
   "name": "Python [Root]"
  },
  "language_info": {
   "codemirror_mode": {
    "name": "ipython",
    "version": 3
   },
   "file_extension": ".py",
   "mimetype": "text/x-python",
   "name": "python",
   "nbconvert_exporter": "python",
   "pygments_lexer": "ipython3",
   "version": "3.5.2"
  }
 },
 "nbformat": 4,
 "nbformat_minor": 0
}
