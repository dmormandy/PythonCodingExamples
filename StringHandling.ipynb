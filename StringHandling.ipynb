{
 "cells": [
  {
   "cell_type": "code",
   "execution_count": 14,
   "metadata": {
    "collapsed": false
   },
   "outputs": [],
   "source": [
    "#Import libraries here\n",
    "import pprint\n",
    "pp = pprint.PrettyPrinter(indent=4)"
   ]
  },
  {
   "cell_type": "code",
   "execution_count": 35,
   "metadata": {
    "collapsed": false
   },
   "outputs": [],
   "source": [
    "def URLify(inputString):\n",
    "    workingString = list(inputString)\n",
    "    for i in range(1,len(workingString)-1):\n",
    "        if workingString[i]==' ':\n",
    "            print(\"Index is: \", i)\n",
    "            workingString[i] = str(\"%20\")\n",
    "            outputString = ''.join(workingString)\n",
    "    return outputString"
   ]
  },
  {
   "cell_type": "code",
   "execution_count": 36,
   "metadata": {
    "collapsed": false
   },
   "outputs": [
    {
     "name": "stdout",
     "output_type": "stream",
     "text": [
      "Index is:  3\n",
      "the%20best\n"
     ]
    }
   ],
   "source": [
    "print(URLify('the best'))"
   ]
  },
  {
   "cell_type": "code",
   "execution_count": 24,
   "metadata": {
    "collapsed": true
   },
   "outputs": [],
   "source": [
    "def test_palindrome(inString):\n",
    "    workingString = str.strip(inString)\n",
    "    \n",
    "    mydict = {}\n",
    "    for c in workingString:\n",
    "        if c not in mydict:\n",
    "            mydict[c] = 1\n",
    "        else:\n",
    "            mydict[c] = mydict[c]+1\n",
    "    \n",
    "    pp.pprint(mydict)\n",
    "    count = 0\n",
    "    for v in mydict.values():\n",
    "        print(v)\n",
    "        if (v % 2) == 1:\n",
    "            count = count + 1\n",
    "            \n",
    "    if count >= 2:\n",
    "        return False\n",
    "    else:\n",
    "        return True"
   ]
  },
  {
   "cell_type": "code",
   "execution_count": 26,
   "metadata": {
    "collapsed": false
   },
   "outputs": [
    {
     "name": "stdout",
     "output_type": "stream",
     "text": [
      "{'a': 2, 'b': 2, 'c': 3}\n",
      "2\n",
      "2\n",
      "3\n",
      "True\n"
     ]
    }
   ],
   "source": [
    "string1 = \"aabbccc\"\n",
    "print(test_palindrome(string1))"
   ]
  },
  {
   "cell_type": "code",
   "execution_count": 20,
   "metadata": {
    "collapsed": false
   },
   "outputs": [],
   "source": [
    "def check_2strings(string1,string2):\n",
    "    result_length = True\n",
    "    result_Insert = True\n",
    "    result_Remove = True\n",
    "    result_Replace = True\n",
    "    if (abs(len(string1)-len(string2))>1):\n",
    "        result_length = False\n",
    "    #Insert Case - expect all chars in string1 to be in string2\n",
    "    for c in string1:\n",
    "        if c not in string2:\n",
    "            result_Insert = False\n",
    "    #Remove case\n",
    "    for c in string2:\n",
    "        if c not in string1:\n",
    "            result_Remove = False\n",
    "    #Replace case\n",
    "    count = 0\n",
    "    for c in string2:\n",
    "        if c in string1:\n",
    "            count = count + 1\n",
    "    if count != (len(string1)-1):\n",
    "        result_Replace = False\n",
    "        \n",
    "    #Combine results\n",
    "    print('Result length is: ', result_length)\n",
    "    print('Insert Result is: ', result_Insert)\n",
    "    print('Remove Remove is: ', result_Remove)\n",
    "    print('Replace Result is: ', result_Replace)\n",
    "    result_Total = result_length and (result_Insert or result_Replace or result_Replace)\n",
    "    return result_Total\n",
    "                    \n",
    "            "
   ]
  },
  {
   "cell_type": "code",
   "execution_count": 21,
   "metadata": {
    "collapsed": false
   },
   "outputs": [
    {
     "name": "stdout",
     "output_type": "stream",
     "text": [
      "Result length is:  True\n",
      "Insert Result is:  True\n",
      "Remove Remove is:  False\n",
      "Replace Result is:  False\n",
      "True\n"
     ]
    }
   ],
   "source": [
    "string1 = 'aaa'\n",
    "string2 = 'aaac'\n",
    "print(check_2strings(string1,string2))"
   ]
  },
  {
   "cell_type": "code",
   "execution_count": null,
   "metadata": {
    "collapsed": true
   },
   "outputs": [],
   "source": []
  }
 ],
 "metadata": {
  "anaconda-cloud": {},
  "kernelspec": {
   "display_name": "Python [Root]",
   "language": "python",
   "name": "Python [Root]"
  },
  "language_info": {
   "codemirror_mode": {
    "name": "ipython",
    "version": 3
   },
   "file_extension": ".py",
   "mimetype": "text/x-python",
   "name": "python",
   "nbconvert_exporter": "python",
   "pygments_lexer": "ipython3",
   "version": "3.5.2"
  }
 },
 "nbformat": 4,
 "nbformat_minor": 0
}
