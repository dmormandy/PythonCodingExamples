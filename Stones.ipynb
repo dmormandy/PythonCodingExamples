{
 "cells": [
  {
   "cell_type": "code",
   "execution_count": 15,
   "metadata": {
    "collapsed": false
   },
   "outputs": [
    {
     "name": "stdout",
     "output_type": "stream",
     "text": [
      "Enter the number of test cases: 4\n",
      "Loop number 0\n",
      "Enter the Jewel string: abc\n",
      "Enter the Mine String: abcdef\n",
      "3\n",
      "Loop number 1\n",
      "Enter the Jewel string: aA\n",
      "Enter the Mine String: abAZ\n",
      "2\n",
      "Loop number 2\n",
      "Enter the Jewel string: aaa\n",
      "Enter the Mine String: a\n",
      "1\n",
      "Loop number 3\n",
      "Enter the Jewel string: what\n",
      "Enter the Mine String: none\n",
      "0\n"
     ]
    }
   ],
   "source": [
    "# Outer Loop is the number of test cases\n",
    "tc = input(\"Enter the number of test cases: \")\n",
    "i = 0\n",
    "for i in range(0,int(tc)):\n",
    "    #Line 1 is the Jewel String\n",
    "    i = i+1\n",
    "    js = input(\"Enter the Jewel string: \")\n",
    "    #Line 2 is the Mine string\n",
    "    ms = input(\"Enter the Mine String: \")\n",
    "    #for each character in the Mine string check whether it is contained in the jewel string - and count if it is\n",
    "    jArray = list(js)\n",
    "    mArray = list(ms)\n",
    "    count = 0\n",
    "    for c in mArray:\n",
    "        if c in jArray:\n",
    "            count = count + 1\n",
    "    print(count)"
   ]
  },
  {
   "cell_type": "code",
   "execution_count": null,
   "metadata": {
    "collapsed": true
   },
   "outputs": [],
   "source": [
    "tc = input()\n",
    "for i in range(0,int(tc)):\n",
    "    js = input()\n",
    "    ms = input()\n",
    "    jArray = list(js)\n",
    "    mArray = list(ms)\n",
    "    count = 0\n",
    "    for c in mArray:\n",
    "        if c in jArray:\n",
    "            count = count + 1\n",
    "    print(count)"
   ]
  }
 ],
 "metadata": {
  "kernelspec": {
   "display_name": "Python [Root]",
   "language": "python",
   "name": "Python [Root]"
  },
  "language_info": {
   "codemirror_mode": {
    "name": "ipython",
    "version": 3
   },
   "file_extension": ".py",
   "mimetype": "text/x-python",
   "name": "python",
   "nbconvert_exporter": "python",
   "pygments_lexer": "ipython3",
   "version": "3.5.2"
  }
 },
 "nbformat": 4,
 "nbformat_minor": 0
}
