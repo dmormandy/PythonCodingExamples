{
 "cells": [
  {
   "cell_type": "code",
   "execution_count": null,
   "metadata": {
    "collapsed": false
   },
   "outputs": [],
   "source": [
    "#Find sum of numbers divisible by 3 and 5 \n",
    "sum=0\n",
    "for i in range(0, 1000):\n",
    "    if ((i % 3 ==0) | (i % 5 ==0)):\n",
    "        sum = sum + i;\n",
    "\n",
    "print(sum)"
   ]
  },
  {
   "cell_type": "code",
   "execution_count": 2,
   "metadata": {
    "collapsed": false
   },
   "outputs": [
    {
     "name": "stdout",
     "output_type": "stream",
     "text": [
      "Fib Number is  2\n",
      "Fib Number is  8\n",
      "Fib Number is  34\n",
      "Fib Number is  144\n",
      "Fib Number is  610\n",
      "Fib Number is  2584\n",
      "Fib Number is  10946\n",
      "Fib Number is  46368\n",
      "Fib Number is  196418\n",
      "Fib Number is  832040\n",
      "Fib Number is  3524578\n",
      "Sum is  4613732\n"
     ]
    }
   ],
   "source": [
    "#Find sum of even numbers in a Fibonaci Sequence less than 4000000\n",
    "import numpy as np\n",
    "\n",
    "sum=0\n",
    "fibarray = np.array([0,1,2])\n",
    "while (fibarray[2] < 4000000):\n",
    "    if (fibarray[2]%2 ==0):\n",
    "        print(\"Fib Number is \",fibarray[2])\n",
    "        sum = sum + fibarray[2]\n",
    "    fibarray[0]=fibarray[1]\n",
    "    fibarray[1]=fibarray[2]\n",
    "    fibarray[2]= fibarray[0] + fibarray[1]\n",
    "\n",
    "print(\"Sum is \",sum)       "
   ]
  },
  {
   "cell_type": "code",
   "execution_count": null,
   "metadata": {
    "collapsed": true
   },
   "outputs": [],
   "source": []
  }
 ],
 "metadata": {
  "kernelspec": {
   "display_name": "Python [Root]",
   "language": "python",
   "name": "Python [Root]"
  },
  "language_info": {
   "codemirror_mode": {
    "name": "ipython",
    "version": 3
   },
   "file_extension": ".py",
   "mimetype": "text/x-python",
   "name": "python",
   "nbconvert_exporter": "python",
   "pygments_lexer": "ipython3",
   "version": "3.5.2"
  }
 },
 "nbformat": 4,
 "nbformat_minor": 0
}
