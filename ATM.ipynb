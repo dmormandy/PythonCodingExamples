{
 "cells": [
  {
   "cell_type": "code",
   "execution_count": null,
   "metadata": {
    "collapsed": true
   },
   "outputs": [],
   "source": [
    "# List Libraries to import here"
   ]
  },
  {
   "cell_type": "code",
   "execution_count": 19,
   "metadata": {
    "collapsed": false
   },
   "outputs": [
    {
     "name": "stdout",
     "output_type": "stream",
     "text": [
      "Enter Withdrawal Amount and Account Balance:\n"
     ]
    }
   ],
   "source": [
    "print(\"Enter Withdrawal Amount and Account Balance:\") "
   ]
  },
  {
   "cell_type": "code",
   "execution_count": 20,
   "metadata": {
    "collapsed": true
   },
   "outputs": [],
   "source": [
    "wAmount = 40.0\n",
    "aBalance = 120.0"
   ]
  },
  {
   "cell_type": "code",
   "execution_count": 38,
   "metadata": {
    "collapsed": false
   },
   "outputs": [],
   "source": [
    "def withdrawFunction (wAmount, aBalance):\n",
    "    newBalance = aBalance\n",
    "    if((wAmount>2000) | (wAmount<0)):\n",
    "        print(\"Withdraw amount must be between 0 and 2000\")\n",
    "    if((aBalance>2000) | (aBalance<0)):\n",
    "        print(\"Balance must be between 0 and 2000\")\n",
    "# Test for Withdrawal amount divisible by 5\n",
    "    if (wAmount%5 == 0) :\n",
    "    # Test for Withdrawal amount greater than Balance\n",
    "        if (wAmount < aBalance):\n",
    "            newBalance = aBalance - wAmount\n",
    "    return newBalance"
   ]
  },
  {
   "cell_type": "code",
   "execution_count": 39,
   "metadata": {
    "collapsed": false
   },
   "outputs": [
    {
     "name": "stdout",
     "output_type": "stream",
     "text": [
      "80.0\n"
     ]
    }
   ],
   "source": [
    "print(aBalance)"
   ]
  },
  {
   "cell_type": "code",
   "execution_count": 40,
   "metadata": {
    "collapsed": false
   },
   "outputs": [
    {
     "name": "stdout",
     "output_type": "stream",
     "text": [
      "120.0\n"
     ]
    }
   ],
   "source": [
    "# Test Case 1: Withdrawl amount not divisible by 5\n",
    "print(withdrawFunction(44.0, 120.0))"
   ]
  },
  {
   "cell_type": "code",
   "execution_count": 41,
   "metadata": {
    "collapsed": false
   },
   "outputs": [
    {
     "name": "stdout",
     "output_type": "stream",
     "text": [
      "120.0\n"
     ]
    }
   ],
   "source": [
    "# Test Case 2: Withdraw greater than Balance\n",
    "print(withdrawFunction(300.0, 120.0))"
   ]
  },
  {
   "cell_type": "code",
   "execution_count": 42,
   "metadata": {
    "collapsed": false
   },
   "outputs": [
    {
     "name": "stdout",
     "output_type": "stream",
     "text": [
      "Balance must be between 0 and 2000\n",
      "-50.0\n"
     ]
    }
   ],
   "source": [
    "# Test Case 3: Balance is Negative\n",
    "print(withdrawFunction(300.0, -50.0))"
   ]
  },
  {
   "cell_type": "code",
   "execution_count": 43,
   "metadata": {
    "collapsed": false
   },
   "outputs": [
    {
     "name": "stdout",
     "output_type": "stream",
     "text": [
      "Withdraw amount must be between 0 and 2000\n",
      "2000.0\n"
     ]
    }
   ],
   "source": [
    "# Test Case 4: Withdraw Amount is greater than 2000\n",
    "print(withdrawFunction(3000.0, 2000.0))"
   ]
  },
  {
   "cell_type": "code",
   "execution_count": null,
   "metadata": {
    "collapsed": true
   },
   "outputs": [],
   "source": []
  }
 ],
 "metadata": {
  "anaconda-cloud": {},
  "kernelspec": {
   "display_name": "Python [Root]",
   "language": "python",
   "name": "Python [Root]"
  },
  "language_info": {
   "codemirror_mode": {
    "name": "ipython",
    "version": 3
   },
   "file_extension": ".py",
   "mimetype": "text/x-python",
   "name": "python",
   "nbconvert_exporter": "python",
   "pygments_lexer": "ipython3",
   "version": "3.5.2"
  }
 },
 "nbformat": 4,
 "nbformat_minor": 0
}
