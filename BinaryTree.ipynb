{
 "cells": [
  {
   "cell_type": "code",
   "execution_count": 5,
   "metadata": {
    "collapsed": false
   },
   "outputs": [],
   "source": [
    "from binarytree import Node, customize, tree, show, convert\n",
    "from binarytree import tree, show_ids, show_all, subtree, prune, leafs\n",
    "import collections\n",
    "import copy\n",
    "import math"
   ]
  },
  {
   "cell_type": "code",
   "execution_count": 2,
   "metadata": {
    "collapsed": true
   },
   "outputs": [],
   "source": [
    "# Define your own null/sentinel value\n",
    "my_null = -1"
   ]
  },
  {
   "cell_type": "code",
   "execution_count": 65,
   "metadata": {
    "collapsed": false
   },
   "outputs": [
    {
     "name": "stdout",
     "output_type": "stream",
     "text": [
      "\n",
      "             ________30___        \n",
      "            /             \\       \n",
      "        ___21__           _14__   \n",
      "       /       \\         /     \\  \n",
      "     _5         3       15      27\n",
      "    /  \\       / \\             /  \n",
      "  _26   16    9   13          4   \n",
      " /                                \n",
      "25                                \n",
      "                                  \n"
     ]
    }
   ],
   "source": [
    "my_custom_tree = tree()\n",
    "show(my_custom_tree)"
   ]
  },
  {
   "cell_type": "code",
   "execution_count": 8,
   "metadata": {
    "collapsed": false
   },
   "outputs": [],
   "source": [
    "#Test if Tree is Height Balanced\n",
    "def is_balanced_binary_tree(tree):\n",
    "    BalancedStatusWithHeight = collections.namedtuple(\"BalancedStatusWithHeight\",('balanced','height'))\n",
    "    \n",
    "    def check_balanced(tree):\n",
    "        if not tree:\n",
    "            return BalancedStatusWithHeight(True,-1)\n",
    "        print(tree.value)\n",
    "        left_result = check_balanced(tree.left)\n",
    "        if not left_result.balanced:\n",
    "            return BalancedStatusWithHeight(False,0)\n",
    "        right_result = check_balanced(tree.right)\n",
    "        if not right_result.balanced:\n",
    "            return BalancedStatusWithHeight(False,0)\n",
    "        is_balanced = abs(left_result.height - right_result.height) <= 1\n",
    "        height = max(left_result.height,right_result.height) + 1\n",
    "        \n",
    "        return BalancedStatusWithHeight(is_balanced, height)\n",
    "    \n",
    "    return check_balanced(tree).balanced"
   ]
  },
  {
   "cell_type": "code",
   "execution_count": 9,
   "metadata": {
    "collapsed": false
   },
   "outputs": [
    {
     "name": "stdout",
     "output_type": "stream",
     "text": [
      "30\n",
      "0\n",
      "2\n",
      "25\n",
      "24\n",
      "28\n",
      "7\n",
      "6\n",
      "9\n",
      "23\n"
     ]
    },
    {
     "data": {
      "text/plain": [
       "False"
      ]
     },
     "execution_count": 9,
     "metadata": {},
     "output_type": "execute_result"
    }
   ],
   "source": [
    "is_balanced_binary_tree(my_custom_tree)"
   ]
  },
  {
   "cell_type": "code",
   "execution_count": 15,
   "metadata": {
    "collapsed": false
   },
   "outputs": [
    {
     "name": "stdout",
     "output_type": "stream",
     "text": [
      "\n",
      "  _____7___    \n",
      " /         \\   \n",
      "6          _4  \n",
      " \\        /  \\ \n",
      "  9      22   3\n",
      "   \\           \n",
      "    23         \n",
      "               \n"
     ]
    }
   ],
   "source": [
    "show(my_custom_tree.right)"
   ]
  },
  {
   "cell_type": "code",
   "execution_count": 100,
   "metadata": {
    "collapsed": true
   },
   "outputs": [],
   "source": [
    "def create_symmetric(tree):\n",
    "    if not tree:\n",
    "        return False\n",
    "    else:\n",
    "        #print(\"Original Tree\")\n",
    "        #show(tree)\n",
    "        mirrored_tree = copy.copy(tree)\n",
    "        if (mirrored_tree.right and tree.left):\n",
    "            mirrored_tree.right = create_symmetric(tree.left)\n",
    "        if (mirrored_tree.left and not tree.right):\n",
    "            mirrored_tree.right = create_symmetric(tree.left)\n",
    "            mirrored_tree.left = None\n",
    "        if (mirrored_tree.left and tree.right):\n",
    "            mirrored_tree.left = create_symmetric(tree.right) \n",
    "        if (mirrored_tree.right and not tree.left):\n",
    "            mirrored_tree.left = create_symmetric(tree.right) \n",
    "            mirrored_tree.right = None\n",
    "        #print(\"Mirrored Tree\")\n",
    "        #show(mirrored_tree)\n",
    "        return mirrored_tree"
   ]
  },
  {
   "cell_type": "code",
   "execution_count": 102,
   "metadata": {
    "collapsed": false
   },
   "outputs": [
    {
     "name": "stdout",
     "output_type": "stream",
     "text": [
      "\n",
      "             ________30___        \n",
      "            /             \\       \n",
      "        ___21__           _14__   \n",
      "       /       \\         /     \\  \n",
      "     _5         3       15      27\n",
      "    /  \\       / \\             /  \n",
      "  _26   16    9   13          4   \n",
      " /                                \n",
      "25                                \n",
      "                                  \n",
      "\n",
      "       ____30_______              \n",
      "      /             \\             \n",
      "  ___14            __21___        \n",
      " /     \\          /       \\       \n",
      "27      15      _3        _5      \n",
      "  \\            /  \\      /  \\     \n",
      "   4          13   9    16   26   \n",
      "                               \\  \n",
      "                                25\n",
      "                                  \n"
     ]
    }
   ],
   "source": [
    "show(my_custom_tree)\n",
    "mtree = create_symmetric(my_custom_tree)\n",
    "show(mtree)"
   ]
  },
  {
   "cell_type": "code",
   "execution_count": 112,
   "metadata": {
    "collapsed": false
   },
   "outputs": [],
   "source": [
    "def is_symmetric(tree):\n",
    "    subtree_0 = tree.left\n",
    "    subtree_1 = tree.right    \n",
    "    def check_symmetric(subtree_0, subtree_1):\n",
    "        if not subtree_0 and not subtree_1:\n",
    "            return True\n",
    "        elif subtree_0 and subtree_1:\n",
    "            return((subtree_0.value == subtree_1.value) and check_symmetric(subtree_0.left, subtree_1.right) and \n",
    "                   check_symmetric(subtree_0.right, subtree_1.left))\n",
    "        return False #Only one empty subtree\n",
    "    \n",
    "    return not tree or check_symmetric(tree.left, tree.right)"
   ]
  },
  {
   "cell_type": "code",
   "execution_count": 111,
   "metadata": {
    "collapsed": false
   },
   "outputs": [
    {
     "name": "stdout",
     "output_type": "stream",
     "text": [
      "False\n"
     ]
    }
   ],
   "source": [
    "print(is_symmetric(my_custom_tree))"
   ]
  },
  {
   "cell_type": "code",
   "execution_count": 119,
   "metadata": {
    "collapsed": false
   },
   "outputs": [],
   "source": [
    "my_list = [7, 3, 3, 6, 9, 9, 6, 3, 7, 7,3,3, 7, 7,3]\n",
    "\n",
    "# Convert the list into a tree and return its root\n",
    "my_tree = convert(my_list)"
   ]
  },
  {
   "cell_type": "code",
   "execution_count": 120,
   "metadata": {
    "collapsed": false
   },
   "outputs": [
    {
     "name": "stdout",
     "output_type": "stream",
     "text": [
      "\n",
      "        ______7______        \n",
      "       /             \\       \n",
      "    __3__           __3__    \n",
      "   /     \\         /     \\   \n",
      "  6       9       9       6  \n",
      " / \\     / \\     / \\     / \\ \n",
      "3   7   7   3   3   7   7   3\n",
      "                             \n"
     ]
    }
   ],
   "source": [
    "show(my_tree)"
   ]
  },
  {
   "cell_type": "code",
   "execution_count": 122,
   "metadata": {
    "collapsed": false
   },
   "outputs": [
    {
     "name": "stdout",
     "output_type": "stream",
     "text": [
      "True\n"
     ]
    }
   ],
   "source": [
    "print(is_symmetric(my_tree))"
   ]
  },
  {
   "cell_type": "code",
   "execution_count": 48,
   "metadata": {
    "collapsed": false
   },
   "outputs": [],
   "source": [
    "def create_bst(inputArray):\n",
    "    leftArray = None\n",
    "    rightArray = None\n",
    "    if inputArray is None or len(inputArray)==0:\n",
    "        return None\n",
    "    if len(inputArray)>=3:\n",
    "        mid = math.ceil(len(inputArray)/2)-1\n",
    "        leftArray = inputArray[0:mid]\n",
    "        rightArray = inputArray[mid+1:]\n",
    "    elif len(inputArray)==2:\n",
    "        mid = 1\n",
    "        leftArray = inputArray[0:mid]\n",
    "    elif len(inputArray)==1:\n",
    "        mid = 0\n",
    "    print(\"Mid Value is: \",inputArray[mid])\n",
    "    print(\"LeftArray is: \",leftArray)\n",
    "    print(\"RightArray is: \",rightArray)\n",
    "    #Create Node\n",
    "    root = Node(inputArray[mid])\n",
    "    root.left = create_bst(leftArray)\n",
    "    root.right = create_bst(rightArray)\n",
    "    return root"
   ]
  },
  {
   "cell_type": "code",
   "execution_count": 52,
   "metadata": {
    "collapsed": false
   },
   "outputs": [
    {
     "name": "stdout",
     "output_type": "stream",
     "text": [
      "Mid Value is:  4\n",
      "LeftArray is:  [1, 2, 3]\n",
      "RightArray is:  [5, 6, 7]\n",
      "Mid Value is:  2\n",
      "LeftArray is:  [1]\n",
      "RightArray is:  [3]\n",
      "Mid Value is:  1\n",
      "LeftArray is:  None\n",
      "RightArray is:  None\n",
      "Mid Value is:  3\n",
      "LeftArray is:  None\n",
      "RightArray is:  None\n",
      "Mid Value is:  6\n",
      "LeftArray is:  [5]\n",
      "RightArray is:  [7]\n",
      "Mid Value is:  5\n",
      "LeftArray is:  None\n",
      "RightArray is:  None\n",
      "Mid Value is:  7\n",
      "LeftArray is:  None\n",
      "RightArray is:  None\n",
      "\n",
      "    __4__    \n",
      "   /     \\   \n",
      "  2       6  \n",
      " / \\     / \\ \n",
      "1   3   5   7\n",
      "             \n"
     ]
    }
   ],
   "source": [
    "testArray = [1,2,3,4,5,6,7]\n",
    "show(create_bst(testArray))"
   ]
  },
  {
   "cell_type": "code",
   "execution_count": null,
   "metadata": {
    "collapsed": true
   },
   "outputs": [],
   "source": []
  }
 ],
 "metadata": {
  "anaconda-cloud": {},
  "kernelspec": {
   "display_name": "Python [Root]",
   "language": "python",
   "name": "Python [Root]"
  },
  "language_info": {
   "codemirror_mode": {
    "name": "ipython",
    "version": 3
   },
   "file_extension": ".py",
   "mimetype": "text/x-python",
   "name": "python",
   "nbconvert_exporter": "python",
   "pygments_lexer": "ipython3",
   "version": "3.5.2"
  }
 },
 "nbformat": 4,
 "nbformat_minor": 0
}
