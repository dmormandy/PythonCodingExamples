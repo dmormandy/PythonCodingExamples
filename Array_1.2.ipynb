{
 "cells": [
  {
   "cell_type": "code",
   "execution_count": 6,
   "metadata": {
    "collapsed": true
   },
   "outputs": [],
   "source": [
    "from pprint import pprint"
   ]
  },
  {
   "cell_type": "code",
   "execution_count": 17,
   "metadata": {
    "collapsed": false
   },
   "outputs": [],
   "source": [
    "def isPermutation(inString1, inString2):\n",
    "    inString1 = inString1.lower()\n",
    "    inString2 = inString2.lower()\n",
    "    isPermuation = 1\n",
    "    charDict = {}    \n",
    "    if(len(inString1) != len(inString2)):\n",
    "        isPermuation = 0\n",
    "    else:\n",
    "        for c in inString1:\n",
    "            if c in charDict:\n",
    "                charDict[c] = charDict[c]+1\n",
    "            else:\n",
    "                charDict[c] = 1\n",
    "            pprint(charDict)\n",
    "        for d in inString2:\n",
    "            if isPermuation ==1:\n",
    "                if d in charDict:\n",
    "                    count1 = charDict[d]\n",
    "                    count2=0\n",
    "                    for i in range(0,len(inString2)):\n",
    "                        if inString2[i] == d:\n",
    "                            count2 = count2 + 1\n",
    "                    if count1 != count2:\n",
    "                        isPermuation = 0\n",
    "                else:\n",
    "                    isPermuation = 0\n",
    "    \n",
    "    if isPermuation == 0:\n",
    "        print(\"Strings are not permutations\")\n",
    "    else:\n",
    "        print(\"Strings are  permutations\")"
   ]
  },
  {
   "cell_type": "code",
   "execution_count": 20,
   "metadata": {
    "collapsed": false
   },
   "outputs": [
    {
     "name": "stdout",
     "output_type": "stream",
     "text": [
      "{'a': 1}\n",
      "{'a': 1, 's': 1}\n",
      "{'a': 1, 'd': 1, 's': 1}\n",
      "{'a': 1, 'd': 1, 'f': 1, 's': 1}\n",
      "{'a': 1, 'd': 1, 'f': 1, 'g': 1, 's': 1}\n",
      "{'a': 1, 'd': 1, 'f': 1, 'g': 1, 'h': 1, 's': 1}\n",
      "Strings are  permutations\n"
     ]
    }
   ],
   "source": [
    "isPermutation(\"asdfgh\",\"HGFDSA\")"
   ]
  },
  {
   "cell_type": "code",
   "execution_count": null,
   "metadata": {
    "collapsed": true
   },
   "outputs": [],
   "source": []
  }
 ],
 "metadata": {
  "kernelspec": {
   "display_name": "Python [Root]",
   "language": "python",
   "name": "Python [Root]"
  },
  "language_info": {
   "codemirror_mode": {
    "name": "ipython",
    "version": 3
   },
   "file_extension": ".py",
   "mimetype": "text/x-python",
   "name": "python",
   "nbconvert_exporter": "python",
   "pygments_lexer": "ipython3",
   "version": "3.5.2"
  }
 },
 "nbformat": 4,
 "nbformat_minor": 0
}
