{
 "cells": [
  {
   "cell_type": "code",
   "execution_count": null,
   "metadata": {
    "collapsed": true
   },
   "outputs": [],
   "source": [
    "from pprint import pprint"
   ]
  },
  {
   "cell_type": "code",
   "execution_count": null,
   "metadata": {
    "collapsed": false
   },
   "outputs": [],
   "source": [
    "def uniqueChar(inputString):\n",
    "    charDict = {}\n",
    "    inputString = inputString.lower()\n",
    "    for c in inputString:\n",
    "        if not c in charDict:\n",
    "            charDict[c]=1\n",
    "        else:\n",
    "            charDict[c] = charDict[c]+1\n",
    "    \n",
    "    pprint(charDict)\n",
    "    isUnique = 1;\n",
    "    for key in charDict:\n",
    "        if charDict[key] > 1:\n",
    "            isUnique = 0;\n",
    "    \n",
    "    if isUnique == 1:\n",
    "        print(\"String is unique\")\n",
    "    else:\n",
    "        print(\"String is not unique\")\n",
    "        "
   ]
  },
  {
   "cell_type": "code",
   "execution_count": 9,
   "metadata": {
    "collapsed": false
   },
   "outputs": [],
   "source": [
    "def uniqueChar2(inputString):\n",
    "    inputString = inputString.lower()\n",
    "    isUnique = 1\n",
    "    for c in inputString:\n",
    "        if (isUnique == 1):\n",
    "            if (inputString.index(c)+1 < len(inputString)):\n",
    "                print(\"Search starts at \",inputString.index(c)+1)\n",
    "                for j in range(inputString.index(c)+1,len(inputString)):\n",
    "                    print(\"j is \",j)\n",
    "                    if c == inputString[j]:\n",
    "                        isUnique = 0\n",
    "    \n",
    "    if isUnique == 1:\n",
    "        print(\"String is unique\")\n",
    "    else:\n",
    "        print(\"String is not unique\")    "
   ]
  },
  {
   "cell_type": "code",
   "execution_count": 10,
   "metadata": {
    "collapsed": false
   },
   "outputs": [
    {
     "name": "stdout",
     "output_type": "stream",
     "text": [
      "Search starts at  1\n",
      "j is  1\n",
      "j is  2\n",
      "j is  3\n",
      "j is  4\n",
      "j is  5\n",
      "j is  6\n",
      "j is  7\n",
      "j is  8\n",
      "j is  9\n",
      "j is  10\n",
      "String is not unique\n"
     ]
    }
   ],
   "source": [
    "#Test function\n",
    "uniqueChar2(\"abcdABCDEFG\")"
   ]
  },
  {
   "cell_type": "code",
   "execution_count": null,
   "metadata": {
    "collapsed": true
   },
   "outputs": [],
   "source": []
  }
 ],
 "metadata": {
  "kernelspec": {
   "display_name": "Python [Root]",
   "language": "python",
   "name": "Python [Root]"
  },
  "language_info": {
   "codemirror_mode": {
    "name": "ipython",
    "version": 3
   },
   "file_extension": ".py",
   "mimetype": "text/x-python",
   "name": "python",
   "nbconvert_exporter": "python",
   "pygments_lexer": "ipython3",
   "version": "3.5.2"
  }
 },
 "nbformat": 4,
 "nbformat_minor": 0
}
