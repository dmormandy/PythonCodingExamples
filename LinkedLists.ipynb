{
 "cells": [
  {
   "cell_type": "code",
   "execution_count": 1,
   "metadata": {
    "collapsed": true
   },
   "outputs": [],
   "source": [
    "#Load libraries here\n",
    "import copy"
   ]
  },
  {
   "cell_type": "code",
   "execution_count": 6,
   "metadata": {
    "collapsed": true
   },
   "outputs": [],
   "source": [
    "class ListNode:\n",
    "    def __init__ (self,data=0,next_node=None):\n",
    "        self.data = data\n",
    "        self.next = next_node"
   ]
  },
  {
   "cell_type": "code",
   "execution_count": 5,
   "metadata": {
    "collapsed": true
   },
   "outputs": [],
   "source": [
    "#Create a new Linked List\n",
    "def newLL(list):\n",
    "    dummy_head = tail = ListNode()\n",
    "    for i in list:\n",
    "        newNode = ListNode()\n",
    "        newNode.data = int(i)\n",
    "        #Add new node to end of List\n",
    "        tail.next = newNode\n",
    "        tail = newNode\n",
    "    return dummy_head.next"
   ]
  },
  {
   "cell_type": "code",
   "execution_count": 7,
   "metadata": {
    "collapsed": true
   },
   "outputs": [],
   "source": [
    "#Print Linked List\n",
    "def printLL(llist):\n",
    "    while llist:\n",
    "        print(\"Linked List node is\", llist.data)\n",
    "        llist = llist.next\n",
    "    "
   ]
  },
  {
   "cell_type": "code",
   "execution_count": 8,
   "metadata": {
    "collapsed": true
   },
   "outputs": [],
   "source": [
    "List1 = [2,4,7]\n",
    "List2 = [3,11]"
   ]
  },
  {
   "cell_type": "code",
   "execution_count": 21,
   "metadata": {
    "collapsed": false
   },
   "outputs": [],
   "source": [
    "LList1 = newLL(List1)\n",
    "LList2 = newLL(List2)"
   ]
  },
  {
   "cell_type": "code",
   "execution_count": 7,
   "metadata": {
    "collapsed": false
   },
   "outputs": [
    {
     "name": "stdout",
     "output_type": "stream",
     "text": [
      "Linked List node  3\n",
      "Linked List node  11\n"
     ]
    }
   ],
   "source": [
    "printLL(LList2)"
   ]
  },
  {
   "cell_type": "code",
   "execution_count": null,
   "metadata": {
    "collapsed": true
   },
   "outputs": [],
   "source": [
    "def merge_two_sorted_lists(L1,L2):\n",
    "    #create a placeholder for the result\n",
    "    dummy_head = tail = ListNode()\n",
    "    \n",
    "    while L1 and L2:\n",
    "        print(\"List1 is \", L1.data)\n",
    "        print(\"List2 is \", L2.data)\n",
    "        if L1.data <= L2.data:\n",
    "            tail.next, L1  = L1, L1.next\n",
    "        else:\n",
    "            tail.next, L2 = L2, L2.next\n",
    "        tail = tail.next\n",
    "        print(\"Merged List is \", tail.data)\n",
    "    \n",
    "    #When you run out of nodes, put the rest of the lists on the end\n",
    "    if L1:\n",
    "        tail.next = L1 \n",
    "    else:\n",
    "        tail.next = L2\n",
    "        \n",
    "    return dummy_head.next"
   ]
  },
  {
   "cell_type": "code",
   "execution_count": 13,
   "metadata": {
    "collapsed": false
   },
   "outputs": [
    {
     "name": "stdout",
     "output_type": "stream",
     "text": [
      "List 1\n",
      "Linked List node  2\n",
      "Linked List node  4\n",
      "Linked List node  7\n",
      "List 2\n",
      "Linked List node  3\n",
      "Linked List node  11\n",
      "List1 is  2\n",
      "List2 is  3\n",
      "Merged List is  2\n",
      "List1 is  4\n",
      "List2 is  3\n",
      "Merged List is  3\n",
      "List1 is  4\n",
      "List2 is  11\n",
      "Merged List is  4\n",
      "List1 is  7\n",
      "List2 is  11\n",
      "Merged List is  7\n",
      "Linked List node  2\n",
      "Linked List node  3\n",
      "Linked List node  4\n",
      "Linked List node  7\n",
      "Linked List node  11\n"
     ]
    }
   ],
   "source": [
    "print(\"List 1\")\n",
    "printLL(LList1)\n",
    "print(\"List 2\")\n",
    "printLL(LList2)\n",
    "LList3 = merge_two_sorted_lists(LList1,LList2)\n",
    "printLL(LList3)"
   ]
  },
  {
   "cell_type": "code",
   "execution_count": 29,
   "metadata": {
    "collapsed": true
   },
   "outputs": [],
   "source": [
    "def reverse_llist(llist):\n",
    "    new_dumhead = new_tail = ListNode()\n",
    "    while llist:\n",
    "        print(\"Original List Data: \",llist.data)\n",
    "        new_node = copy.copy(llist)\n",
    "        print(\"New List Data: \",new_node.data)\n",
    "        new_node.next = new_dumhead.next\n",
    "        new_dumhead.next = new_node\n",
    "        llist = llist.next\n",
    "    return new_dumhead"
   ]
  },
  {
   "cell_type": "code",
   "execution_count": 31,
   "metadata": {
    "collapsed": false
   },
   "outputs": [
    {
     "name": "stdout",
     "output_type": "stream",
     "text": [
      "Original List Data:  2\n",
      "New List Data:  2\n",
      "Original List Data:  4\n",
      "New List Data:  4\n",
      "Original List Data:  7\n",
      "New List Data:  7\n",
      "Linked List node  0\n",
      "Linked List node  7\n",
      "Linked List node  4\n",
      "Linked List node  2\n"
     ]
    }
   ],
   "source": [
    "LList4 = reverse_llist(LList1)\n",
    "printLL(LList4)"
   ]
  },
  {
   "cell_type": "code",
   "execution_count": 59,
   "metadata": {
    "collapsed": false
   },
   "outputs": [],
   "source": [
    "def sort_LL(llist):\n",
    "    previous = dummy_head = ListNode()\n",
    "    dummy_head.next = llist\n",
    "    while llist and (llist.next != None):\n",
    "        print(\"List Data and List.next data: \",llist.data,\" and \",llist.next.data)\n",
    "        if llist.data > llist.next.data:\n",
    "            print(\"Swapping\")\n",
    "            #first = previous\n",
    "            second = llist.next\n",
    "            third = llist\n",
    "            fourth = llist.next.next\n",
    "            #Swap the order\n",
    "            previous.next = second    # llist.next (3)\n",
    "            second.next = third       # llist (5)\n",
    "            third.next = fourth       # llist.next.next (7)\n",
    "            printLL(previous.next)\n",
    "            # Start from the beginning\n",
    "            previous = dummy_head\n",
    "            llist = dummy_head.next\n",
    "        else:\n",
    "            print(\"Moving on...\")\n",
    "            #Move onto next item\n",
    "            previous = llist\n",
    "            llist = llist.next\n",
    "    return dummy_head.next\n",
    "\n",
    "    "
   ]
  },
  {
   "cell_type": "code",
   "execution_count": 64,
   "metadata": {
    "collapsed": true
   },
   "outputs": [],
   "source": [
    "def delete_duplicate(llist):\n",
    "    previous = dummy_head = ListNode()\n",
    "    sortedll = dummy_head.next = sort_LL(llist)\n",
    "    printLL(dummy_head.next)\n",
    "    while sortedll and (sortedll.next != None):\n",
    "        if sortedll.data == sortedll.next.data:\n",
    "            previous.next = sortedll.next\n",
    "        #Move onto next item\n",
    "        previous = sortedll\n",
    "        sortedll = sortedll.next\n",
    "    return(dummy_head.next)"
   ]
  },
  {
   "cell_type": "code",
   "execution_count": 57,
   "metadata": {
    "collapsed": false
   },
   "outputs": [
    {
     "name": "stdout",
     "output_type": "stream",
     "text": [
      "Linked List node is 5\n",
      "Linked List node is 3\n",
      "Linked List node is 7\n",
      "List Data and List.next data:  5  and  3\n",
      "Swapping\n",
      "Linked List node is 3\n",
      "Linked List node is 5\n",
      "Linked List node is 7\n",
      "List Data and List.next data:  3  and  5\n",
      "Moving on...\n",
      "List Data and List.next data:  5  and  7\n",
      "Moving on...\n",
      "Sorted List Data:  7\n",
      "Linked List node is 3\n",
      "Linked List node is 5\n",
      "Linked List node is 7\n"
     ]
    }
   ],
   "source": [
    "List1 = [5,3,7]\n",
    "LList1 = newLL(List1)\n",
    "printLL(LList1)\n",
    "LList1 = sort_LL(LList1)\n",
    "printLL(LList1)"
   ]
  },
  {
   "cell_type": "code",
   "execution_count": 65,
   "metadata": {
    "collapsed": false
   },
   "outputs": [
    {
     "name": "stdout",
     "output_type": "stream",
     "text": [
      "Linked List node is 5\n",
      "Linked List node is 3\n",
      "Linked List node is 7\n",
      "Linked List node is 7\n",
      "Linked List node is 2\n",
      "List Data and List.next data:  5  and  3\n",
      "Swapping\n",
      "Linked List node is 3\n",
      "Linked List node is 5\n",
      "Linked List node is 7\n",
      "Linked List node is 7\n",
      "Linked List node is 2\n",
      "List Data and List.next data:  3  and  5\n",
      "Moving on...\n",
      "List Data and List.next data:  5  and  7\n",
      "Moving on...\n",
      "List Data and List.next data:  7  and  7\n",
      "Moving on...\n",
      "List Data and List.next data:  7  and  2\n",
      "Swapping\n",
      "Linked List node is 2\n",
      "Linked List node is 7\n",
      "List Data and List.next data:  3  and  5\n",
      "Moving on...\n",
      "List Data and List.next data:  5  and  7\n",
      "Moving on...\n",
      "List Data and List.next data:  7  and  2\n",
      "Swapping\n",
      "Linked List node is 2\n",
      "Linked List node is 7\n",
      "Linked List node is 7\n",
      "List Data and List.next data:  3  and  5\n",
      "Moving on...\n",
      "List Data and List.next data:  5  and  2\n",
      "Swapping\n",
      "Linked List node is 2\n",
      "Linked List node is 5\n",
      "Linked List node is 7\n",
      "Linked List node is 7\n",
      "List Data and List.next data:  3  and  2\n",
      "Swapping\n",
      "Linked List node is 2\n",
      "Linked List node is 3\n",
      "Linked List node is 5\n",
      "Linked List node is 7\n",
      "Linked List node is 7\n",
      "List Data and List.next data:  2  and  3\n",
      "Moving on...\n",
      "List Data and List.next data:  3  and  5\n",
      "Moving on...\n",
      "List Data and List.next data:  5  and  7\n",
      "Moving on...\n",
      "List Data and List.next data:  7  and  7\n",
      "Moving on...\n",
      "Linked List node is 2\n",
      "Linked List node is 3\n",
      "Linked List node is 5\n",
      "Linked List node is 7\n",
      "Linked List node is 7\n",
      "Linked List node is 2\n",
      "Linked List node is 3\n",
      "Linked List node is 5\n",
      "Linked List node is 7\n"
     ]
    }
   ],
   "source": [
    "List2 = [5,3,7,7,2]\n",
    "LList2 = newLL(List2)\n",
    "printLL(LList2)\n",
    "LList2 = delete_duplicate(LList2)\n",
    "printLL(LList2)"
   ]
  },
  {
   "cell_type": "code",
   "execution_count": 10,
   "metadata": {
    "collapsed": true
   },
   "outputs": [],
   "source": [
    "def delete_mnode(node):\n",
    "    if(node.next is not None):\n",
    "        node.data = node.next.data\n",
    "        node.next = node.next.next\n",
    "    return True"
   ]
  },
  {
   "cell_type": "code",
   "execution_count": 11,
   "metadata": {
    "collapsed": false
   },
   "outputs": [
    {
     "name": "stdout",
     "output_type": "stream",
     "text": [
      "Linked List node is 5\n",
      "Linked List node is 3\n",
      "Linked List node is 7\n",
      "Linked List node is 7\n",
      "Linked List node is 2\n",
      "Linked List node is 5\n",
      "Linked List node is 3\n",
      "Linked List node is 7\n",
      "Linked List node is 2\n"
     ]
    }
   ],
   "source": [
    "List2 = [5,3,7,7,2]\n",
    "LList2 = newLL(List2)\n",
    "printLL(LList2)\n",
    "delete_mnode(LList2.next.next)\n",
    "printLL(LList2)"
   ]
  },
  {
   "cell_type": "code",
   "execution_count": 18,
   "metadata": {
    "collapsed": true
   },
   "outputs": [],
   "source": [
    "def partition_llist(llist, partition):\n",
    "    dummy_node = ListNode()\n",
    "    dummy_node.next = llist\n",
    "    prev_less = dn_prev = ListNode()\n",
    "    prev_more = dn_more = ListNode()\n",
    "    while llist:\n",
    "        print(llist.data)\n",
    "        if llist.data < partition:\n",
    "            prev_less.next = llist\n",
    "            prev_less = llist\n",
    "        else:\n",
    "            prev_more.next = llist\n",
    "            prev_more = llist\n",
    "        llist = llist.next\n",
    "    \n",
    "    printLL(prev_less)\n",
    "    printLL(prev_more)\n",
    "    \n",
    "    "
   ]
  },
  {
   "cell_type": "code",
   "execution_count": 19,
   "metadata": {
    "collapsed": false
   },
   "outputs": [
    {
     "name": "stdout",
     "output_type": "stream",
     "text": [
      "5\n",
      "3\n",
      "7\n",
      "7\n",
      "2\n",
      "Linked List node is 2\n",
      "Linked List node is 7\n",
      "Linked List node is 2\n"
     ]
    }
   ],
   "source": [
    "List2 = [5,3,7,7,2]\n",
    "LList2 = newLL(List2)\n",
    "#printLL(LList2)\n",
    "partition_llist(LList2,5)"
   ]
  },
  {
   "cell_type": "code",
   "execution_count": null,
   "metadata": {
    "collapsed": true
   },
   "outputs": [],
   "source": []
  }
 ],
 "metadata": {
  "anaconda-cloud": {},
  "kernelspec": {
   "display_name": "Python [Root]",
   "language": "python",
   "name": "Python [Root]"
  },
  "language_info": {
   "codemirror_mode": {
    "name": "ipython",
    "version": 3
   },
   "file_extension": ".py",
   "mimetype": "text/x-python",
   "name": "python",
   "nbconvert_exporter": "python",
   "pygments_lexer": "ipython3",
   "version": "3.5.2"
  }
 },
 "nbformat": 4,
 "nbformat_minor": 0
}
